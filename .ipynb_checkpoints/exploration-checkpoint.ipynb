{
 "cells": [
  {
   "cell_type": "code",
   "execution_count": 13,
   "id": "97b411ea-a4ee-477c-aa21-900b93b1af10",
   "metadata": {},
   "outputs": [],
   "source": [
    "import warnings\n",
    "warnings.filterwarnings(\"ignore\")"
   ]
  },
  {
   "cell_type": "code",
   "execution_count": 15,
   "id": "a5925efc-e415-4d78-bc02-3858e792dfcd",
   "metadata": {},
   "outputs": [],
   "source": [
    "# Importing packages\n",
    "import pandas as pd\n",
    "import numpy as np\n",
    "import matplotlib.pyplot as plt\n",
    "import seaborn as sns"
   ]
  },
  {
   "cell_type": "code",
   "execution_count": 42,
   "id": "6e7b6b30-6896-4e28-a0c3-d75c67805822",
   "metadata": {},
   "outputs": [],
   "source": [
    "# pyspark packages\n",
    "from pyspark.sql import SparkSession\n",
    "from pyspark.sql.functions import col, sum"
   ]
  },
  {
   "cell_type": "code",
   "execution_count": 44,
   "id": "d616a713-437d-4d37-9197-613bb59c6d57",
   "metadata": {},
   "outputs": [
    {
     "data": {
      "text/html": [
       "\n",
       "            <div>\n",
       "                <p><b>SparkSession - hive</b></p>\n",
       "                \n",
       "        <div>\n",
       "            <p><b>SparkContext</b></p>\n",
       "\n",
       "            <p><a href=\"http://bharaths-air:4040\">Spark UI</a></p>\n",
       "\n",
       "            <dl>\n",
       "              <dt>Version</dt>\n",
       "                <dd><code>v3.5.1</code></dd>\n",
       "              <dt>Master</dt>\n",
       "                <dd><code>local[*]</code></dd>\n",
       "              <dt>AppName</dt>\n",
       "                <dd><code>PySparkShell</code></dd>\n",
       "            </dl>\n",
       "        </div>\n",
       "        \n",
       "            </div>\n",
       "        "
      ],
      "text/plain": [
       "<pyspark.sql.session.SparkSession at 0x117ae5610>"
      ]
     },
     "execution_count": 44,
     "metadata": {},
     "output_type": "execute_result"
    }
   ],
   "source": [
    "spark = SparkSession.builder \\\n",
    "    .appName(\"MIS548 Project\") \\\n",
    "    .config(\"spark.sql.debug.maxToStringFields\", \"1000\") \\\n",
    "    .getOrCreate()\n",
    "\n",
    "spark"
   ]
  },
  {
   "cell_type": "code",
   "execution_count": 46,
   "id": "a204251e-53fc-4a4b-b9a2-8c2675718ee8",
   "metadata": {},
   "outputs": [],
   "source": [
    "ip_data = spark.read.option(\"delimiter\", \",\") \\\n",
    "                .option(\"header\", True) \\\n",
    "                .csv(\"./data/gun-violence-data_01-2013_03-2018.csv\")"
   ]
  },
  {
   "cell_type": "code",
   "execution_count": 48,
   "id": "db219fb9-6637-42c1-a8c9-b7cc2d0c0ff0",
   "metadata": {},
   "outputs": [
    {
     "name": "stdout",
     "output_type": "stream",
     "text": [
      "root\n",
      " |-- incident_id: string (nullable = true)\n",
      " |-- date: string (nullable = true)\n",
      " |-- state: string (nullable = true)\n",
      " |-- city_or_county: string (nullable = true)\n",
      " |-- address: string (nullable = true)\n",
      " |-- n_killed: string (nullable = true)\n",
      " |-- n_injured: string (nullable = true)\n",
      " |-- incident_url: string (nullable = true)\n",
      " |-- source_url: string (nullable = true)\n",
      " |-- incident_url_fields_missing: string (nullable = true)\n",
      " |-- congressional_district: string (nullable = true)\n",
      " |-- gun_stolen: string (nullable = true)\n",
      " |-- gun_type: string (nullable = true)\n",
      " |-- incident_characteristics: string (nullable = true)\n",
      " |-- latitude: string (nullable = true)\n",
      " |-- location_description: string (nullable = true)\n",
      " |-- longitude: string (nullable = true)\n",
      " |-- n_guns_involved: string (nullable = true)\n",
      " |-- notes: string (nullable = true)\n",
      " |-- participant_age: string (nullable = true)\n",
      " |-- participant_age_group: string (nullable = true)\n",
      " |-- participant_gender: string (nullable = true)\n",
      " |-- participant_name: string (nullable = true)\n",
      " |-- participant_relationship: string (nullable = true)\n",
      " |-- participant_status: string (nullable = true)\n",
      " |-- participant_type: string (nullable = true)\n",
      " |-- sources: string (nullable = true)\n",
      " |-- state_house_district: string (nullable = true)\n",
      " |-- state_senate_district: string (nullable = true)\n",
      "\n"
     ]
    }
   ],
   "source": [
    "ip_data.printSchema()"
   ]
  },
  {
   "cell_type": "code",
   "execution_count": 52,
   "id": "e1bcd2ab-46d6-4b2f-bf59-a53ad41a0629",
   "metadata": {},
   "outputs": [],
   "source": [
    "null_counts = ip_data.select([sum(col(c).isNull().cast('int')).alias(c) for c in ip_data.columns])"
   ]
  },
  {
   "cell_type": "code",
   "execution_count": 62,
   "id": "23784f84-0be3-4419-93aa-a317a2d2fec2",
   "metadata": {},
   "outputs": [
    {
     "name": "stdout",
     "output_type": "stream",
     "text": [
      "+-----------+----+-----+--------------+-------+--------+---------+------------+----------+---------------------------+----------------------+----------+--------+------------------------+--------+--------------------+---------+---------------+-----+---------------+---------------------+------------------+----------------+------------------------+------------------+----------------+-------+--------------------+---------------------+\n",
      "|incident_id|date|state|city_or_county|address|n_killed|n_injured|incident_url|source_url|incident_url_fields_missing|congressional_district|gun_stolen|gun_type|incident_characteristics|latitude|location_description|longitude|n_guns_involved|notes|participant_age|participant_age_group|participant_gender|participant_name|participant_relationship|participant_status|participant_type|sources|state_house_district|state_senate_district|\n",
      "+-----------+----+-----+--------------+-------+--------+---------+------------+----------+---------------------------+----------------------+----------+--------+------------------------+--------+--------------------+---------+---------------+-----+---------------+---------------------+------------------+----------------+------------------------+------------------+----------------+-------+--------------------+---------------------+\n",
      "|0          |236 |2552 |1274          |17717  |3714    |6142     |935         |1292      |369                        |13125                 |100965    |106690  |7584                    |15184   |204849              |15185    |106713         |88279|104130         |55382                |49778             |133328          |231691                  |41347             |38597           |14895  |52070               |45852                |\n",
      "+-----------+----+-----+--------------+-------+--------+---------+------------+----------+---------------------------+----------------------+----------+--------+------------------------+--------+--------------------+---------+---------------+-----+---------------+---------------------+------------------+----------------+------------------------+------------------+----------------+-------+--------------------+---------------------+\n",
      "\n"
     ]
    }
   ],
   "source": [
    "null_counts.show(truncate=False)"
   ]
  },
  {
   "cell_type": "code",
   "execution_count": 102,
   "id": "60543c80-c8c2-4431-8930-2ad491a81eba",
   "metadata": {},
   "outputs": [
    {
     "name": "stdout",
     "output_type": "stream",
     "text": [
      "Number of records in the data : 246939\n",
      "Number of columns: 29\n"
     ]
    }
   ],
   "source": [
    "print(f\"Number of records in the data : {ip_data.count()}\")\n",
    "print(f\"Number of columns: {len(ip_data.columns)}\")"
   ]
  },
  {
   "cell_type": "code",
   "execution_count": 90,
   "id": "26de04de-41b7-4a2e-8286-c8505235774c",
   "metadata": {},
   "outputs": [],
   "source": [
    "narrow_null_counts = null_counts.selectExpr(f\"'{null_counts.columns[0]}' as column_name\",\n",
    "                                            f\"{null_counts.columns[0]} as null_count\")"
   ]
  },
  {
   "cell_type": "code",
   "execution_count": 92,
   "id": "689f7d0d-1c93-45a9-bb1f-aa89dca43612",
   "metadata": {},
   "outputs": [],
   "source": [
    "for c in null_counts.columns[1:]:\n",
    "    next_col = null_counts.selectExpr(f\"'{c}' as column_name\", f\"{c} as null_count\")\n",
    "    narrow_null_counts = narrow_null_counts.union(next_col)"
   ]
  },
  {
   "cell_type": "code",
   "execution_count": 104,
   "id": "c32d8658-e0c3-46f6-9b0b-3571bee13859",
   "metadata": {},
   "outputs": [
    {
     "name": "stderr",
     "output_type": "stream",
     "text": [
      "[Stage 417:>                                                        (0 + 8) / 8]\r"
     ]
    },
    {
     "name": "stdout",
     "output_type": "stream",
     "text": [
      "+---------------------------+----------+\n",
      "|column_name                |null_count|\n",
      "+---------------------------+----------+\n",
      "|incident_id                |0         |\n",
      "|date                       |236       |\n",
      "|state                      |2552      |\n",
      "|city_or_county             |1274      |\n",
      "|address                    |17717     |\n",
      "|n_killed                   |3714      |\n",
      "|n_injured                  |6142      |\n",
      "|incident_url               |935       |\n",
      "|source_url                 |1292      |\n",
      "|incident_url_fields_missing|369       |\n",
      "|congressional_district     |13125     |\n",
      "|gun_stolen                 |100965    |\n",
      "|gun_type                   |106690    |\n",
      "|incident_characteristics   |7584      |\n",
      "|latitude                   |15184     |\n",
      "|location_description       |204849    |\n",
      "|longitude                  |15185     |\n",
      "|n_guns_involved            |106713    |\n",
      "|notes                      |88279     |\n",
      "|participant_age            |104130    |\n",
      "|participant_age_group      |55382     |\n",
      "|participant_gender         |49778     |\n",
      "|participant_name           |133328    |\n",
      "|participant_relationship   |231691    |\n",
      "|participant_status         |41347     |\n",
      "|participant_type           |38597     |\n",
      "|sources                    |14895     |\n",
      "|state_house_district       |52070     |\n",
      "|state_senate_district      |45852     |\n",
      "+---------------------------+----------+\n",
      "\n"
     ]
    },
    {
     "name": "stderr",
     "output_type": "stream",
     "text": [
      "                                                                                \r"
     ]
    }
   ],
   "source": [
    "narrow_null_counts.show(n=29, truncate=False)"
   ]
  }
 ],
 "metadata": {
  "kernelspec": {
   "display_name": "Python 3 (ipykernel)",
   "language": "python",
   "name": "python3"
  },
  "language_info": {
   "codemirror_mode": {
    "name": "ipython",
    "version": 3
   },
   "file_extension": ".py",
   "mimetype": "text/x-python",
   "name": "python",
   "nbconvert_exporter": "python",
   "pygments_lexer": "ipython3",
   "version": "3.11.7"
  }
 },
 "nbformat": 4,
 "nbformat_minor": 5
}
