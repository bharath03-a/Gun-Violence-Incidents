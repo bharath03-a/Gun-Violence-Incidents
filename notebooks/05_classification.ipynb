{
 "cells": [
  {
   "cell_type": "code",
   "execution_count": 10,
   "id": "389d2a87-c0f4-434c-b5e6-0113c3f38ce9",
   "metadata": {},
   "outputs": [],
   "source": [
    "import warnings\n",
    "warnings.filterwarnings(\"ignore\")"
   ]
  },
  {
   "cell_type": "code",
   "execution_count": 146,
   "id": "5503f0a6-45d7-4057-967c-a9572fcb6233",
   "metadata": {},
   "outputs": [],
   "source": [
    "# Importing packages\n",
    "import pandas as pd\n",
    "import numpy as np\n",
    "import matplotlib.pyplot as plt\n",
    "import seaborn as sns\n",
    "\n",
    "from sklearn.metrics import roc_curve, auc, accuracy_score, precision_score, recall_score, f1_score"
   ]
  },
  {
   "cell_type": "code",
   "execution_count": 12,
   "id": "d43d83b1-6234-4481-9d00-4546fd4adf10",
   "metadata": {},
   "outputs": [],
   "source": [
    "%matplotlib inline\n",
    "plt.style.use('bmh')"
   ]
  },
  {
   "cell_type": "code",
   "execution_count": 19,
   "id": "76a48337-36fc-4106-9782-9ba84069a2b3",
   "metadata": {},
   "outputs": [],
   "source": [
    "# self created packages\n",
    "import sys\n",
    "import os\n",
    "\n",
    "sys.path.append(os.path.abspath(os.path.join(os.getcwd(), '..')))\n",
    "from scripts.visualizations import Visualization\n",
    "from scripts.snowflake_sink import SnowflakeConnector"
   ]
  },
  {
   "cell_type": "code",
   "execution_count": 122,
   "id": "b250fdc6-97f5-4d99-9553-95be560a9ec1",
   "metadata": {},
   "outputs": [],
   "source": [
    "# pyspark packages\n",
    "from pyspark.sql import SparkSession\n",
    "from pyspark.sql.functions import (\n",
    "    col, sum, desc, explode, split, year, month, dayofweek, length, initcap, trim, lower, \n",
    "    regexp_extract, regexp_replace, max, explode, count, when, concat_ws)\n",
    "from pyspark.sql.types import (\n",
    "    StructType, StructField, IntegerType, StringType,\n",
    "    FloatType, BooleanType, DateType, DoubleType)\n",
    "\n",
    "# pyspakr ML library\n",
    "from pyspark.ml.feature import VectorAssembler, ChiSqSelector, StringIndexer\n",
    "from pyspark.ml.classification import RandomForestClassifier, GBTClassifier\n",
    "from pyspark.ml.evaluation import MulticlassClassificationEvaluator, BinaryClassificationEvaluator\n",
    "from pyspark.ml.tuning import ParamGridBuilder, CrossValidator\n",
    "from pyspark.ml import Pipeline"
   ]
  },
  {
   "cell_type": "code",
   "execution_count": 23,
   "id": "fdcacf64-6086-459c-a099-b7e7f18e7397",
   "metadata": {},
   "outputs": [
    {
     "name": "stderr",
     "output_type": "stream",
     "text": [
      "24/11/03 12:03:55 WARN SparkSession: Using an existing Spark session; only runtime SQL configurations will take effect.\n"
     ]
    },
    {
     "data": {
      "text/html": [
       "\n",
       "            <div>\n",
       "                <p><b>SparkSession - hive</b></p>\n",
       "                \n",
       "        <div>\n",
       "            <p><b>SparkContext</b></p>\n",
       "\n",
       "            <p><a href=\"http://bharaths-air:4043\">Spark UI</a></p>\n",
       "\n",
       "            <dl>\n",
       "              <dt>Version</dt>\n",
       "                <dd><code>v3.5.1</code></dd>\n",
       "              <dt>Master</dt>\n",
       "                <dd><code>local[*]</code></dd>\n",
       "              <dt>AppName</dt>\n",
       "                <dd><code>PySparkShell</code></dd>\n",
       "            </dl>\n",
       "        </div>\n",
       "        \n",
       "            </div>\n",
       "        "
      ],
      "text/plain": [
       "<pyspark.sql.session.SparkSession at 0x121686010>"
      ]
     },
     "execution_count": 23,
     "metadata": {},
     "output_type": "execute_result"
    }
   ],
   "source": [
    "spark = SparkSession.builder \\\n",
    "    .appName(\"Data Modeling\") \\\n",
    "    .getOrCreate()\n",
    "\n",
    "spark"
   ]
  },
  {
   "cell_type": "code",
   "execution_count": 28,
   "id": "8f2709d6-d3b8-49b9-9145-a321390c2edb",
   "metadata": {},
   "outputs": [
    {
     "name": "stderr",
     "output_type": "stream",
     "text": [
      "                                                                                \r"
     ]
    },
    {
     "name": "stdout",
     "output_type": "stream",
     "text": [
      "Number of records in the data : 239677\n",
      "Number of columns: 45\n"
     ]
    }
   ],
   "source": [
    "ip_data = spark.read.option(\"header\", \"True\") \\\n",
    "                .option(\"inferSchema\", \"True\") \\\n",
    "                .option(\"quote\", '\"') \\\n",
    "                .option(\"escape\", '\"') \\\n",
    "                .option(\"sep\", \",\") \\\n",
    "                .option(\"ignoreLeadingWhiteSpace\", \"True\") \\\n",
    "                .option(\"ignoreTrailingWhiteSpace\", \"True\") \\\n",
    "                .option(\"multiLine\", \"True\") \\\n",
    "                .option(\"mode\", \"PERMISSIVE\") \\\n",
    "                .csv(\"../data/gun_violence_cleaned_data_2013_2018.csv\")\n",
    "\n",
    "print(f\"Number of records in the data : {ip_data.count()}\")\n",
    "print(f\"Number of columns: {len(ip_data.columns)}\")"
   ]
  },
  {
   "cell_type": "code",
   "execution_count": 30,
   "id": "de39e883-1726-45bf-9072-ef1edc19bd77",
   "metadata": {},
   "outputs": [],
   "source": [
    "txt_columns = [\"notes\"]\n",
    "\n",
    "ip_data = ip_data.fillna(\"missing\", subset=txt_columns)"
   ]
  },
  {
   "cell_type": "markdown",
   "id": "1e6d1fb0-5321-44e9-a09f-3036d0e85ca8",
   "metadata": {},
   "source": [
    "### Classification (without the text column)\n",
    "\n",
    "For startes we are setting the target column as `is_killed` a new column created and proceed with the classification problem.\n",
    "\n",
    "We will also drop features such as `incident_id`, `notes`, `date`, `city_or_county`, and may be `incident_characteristics`, `year`\n",
    "\n",
    "Not sure if `year` is needed as it might be missleading."
   ]
  },
  {
   "cell_type": "code",
   "execution_count": 82,
   "id": "43dbcf1d-742e-4458-9d48-d0385a15793c",
   "metadata": {},
   "outputs": [],
   "source": [
    "class_ip_data = ip_data.withColumn(\"is_killed\", when(col(\"n_killed\") > 0, 1).otherwise(0))"
   ]
  },
  {
   "cell_type": "markdown",
   "id": "c2366f08-3b62-4e64-98e4-63fafde6acfb",
   "metadata": {},
   "source": [
    "Dropping columns which we won't be using."
   ]
  },
  {
   "cell_type": "code",
   "execution_count": 85,
   "id": "7c219bcc-4174-45e0-bf06-a65b866c272c",
   "metadata": {},
   "outputs": [],
   "source": [
    "cols_to_drop = [\"n_killed\", \"incident_id\", \"date\", \"address\", \"congressional_district\", \"incident_characteristics\", \"latitude\", \"longitude\", \"notes\"]\n",
    "\n",
    "class_ip_data = class_ip_data.drop(*cols_to_drop)"
   ]
  },
  {
   "cell_type": "code",
   "execution_count": 107,
   "id": "0aeccfa2-34f7-492b-ae81-49da089d0975",
   "metadata": {},
   "outputs": [
    {
     "name": "stdout",
     "output_type": "stream",
     "text": [
      "Non-integer and non-float columns: []\n"
     ]
    }
   ],
   "source": [
    "non_numeric_columns = [field.name for field in class_ip_data.schema.fields if not isinstance(field.dataType, (IntegerType, FloatType, DoubleType))]\n",
    "\n",
    "print(\"Non-integer and non-float columns:\", non_numeric_columns)"
   ]
  },
  {
   "cell_type": "code",
   "execution_count": 93,
   "id": "fdc208c5-1169-4fe8-81bb-bb4476fe5fc2",
   "metadata": {},
   "outputs": [],
   "source": [
    "def encode_multiple_columns_with_string_indexer(df, columns):\n",
    "    \"\"\"\n",
    "    Function to encode multiple columns using StringIndexer.\n",
    "    \n",
    "    Parameters:\n",
    "    df (DataFrame): The input DataFrame.\n",
    "    columns (list): List of column names to be indexed.\n",
    "    \n",
    "    Returns:\n",
    "    DataFrame: DataFrame with the new indexed columns.\n",
    "    \"\"\"\n",
    "    indexers = [StringIndexer(inputCol=col, outputCol=col + \"_indexed\") for col in columns]\n",
    "    pipeline = Pipeline(stages=indexers)\n",
    "    indexed_df = pipeline.fit(df).transform(df)\n",
    "    \n",
    "    return indexed_df"
   ]
  },
  {
   "cell_type": "code",
   "execution_count": 97,
   "id": "d1a880f2-4718-485b-80e9-5cf313ed75e6",
   "metadata": {},
   "outputs": [],
   "source": [
    "class_ip_data = encode_multiple_columns_with_string_indexer(class_ip_data, non_numeric_columns)"
   ]
  },
  {
   "cell_type": "code",
   "execution_count": 101,
   "id": "adbd5213-30a3-4b0e-8afc-012c87ab9839",
   "metadata": {},
   "outputs": [],
   "source": [
    "class_ip_data = class_ip_data.drop(*non_numeric_columns)\n",
    "\n",
    "class_ip_data = class_ip_data.withColumnRenamed('state_indexed', 'state') \\\n",
    "                            .withColumnRenamed('city_or_county_indexed', 'city_or_county')"
   ]
  },
  {
   "cell_type": "markdown",
   "id": "91c93532-4a4c-48a5-aa22-ff6da798d414",
   "metadata": {},
   "source": [
    "#### Feature Vectorization"
   ]
  },
  {
   "cell_type": "code",
   "execution_count": 111,
   "id": "d408c323-6db1-4e0e-b0b2-cebbfaa7ef52",
   "metadata": {},
   "outputs": [],
   "source": [
    "feature_columns = [col for col in class_ip_data.columns if col not in ['is_killed']]\n",
    "\n",
    "assembler = VectorAssembler(inputCols=feature_columns, outputCol=\"features\")\n",
    "class_ip_data = assembler.transform(class_ip_data).select(\"features\", \"is_killed\")"
   ]
  },
  {
   "cell_type": "code",
   "execution_count": 115,
   "id": "329e0263-8a48-4d71-b917-5f65a126c677",
   "metadata": {},
   "outputs": [],
   "source": [
    "# Splitting data into training and testing sets\n",
    "train_data, test_data = class_ip_data.randomSplit([0.8, 0.2], seed=42)"
   ]
  },
  {
   "cell_type": "markdown",
   "id": "08bfb834-0d57-43aa-ad6c-fe4abc0cdc8c",
   "metadata": {},
   "source": [
    "#### Model Training and Evaluation"
   ]
  },
  {
   "cell_type": "markdown",
   "id": "759a7736-4208-47d9-a116-b5f3794642e4",
   "metadata": {},
   "source": [
    "##### Randon Forest"
   ]
  },
  {
   "cell_type": "code",
   "execution_count": 126,
   "id": "bcdeb2cc-4752-41d0-bbdc-d951e66a8038",
   "metadata": {},
   "outputs": [
    {
     "name": "stderr",
     "output_type": "stream",
     "text": [
      "24/11/03 13:27:29 WARN CacheManager: Asked to cache already cached data.\n",
      "24/11/03 13:27:29 WARN CacheManager: Asked to cache already cached data.\n",
      "24/11/03 13:28:18 WARN DAGScheduler: Broadcasting large task binary with size 1063.2 KiB\n",
      "24/11/03 13:28:34 WARN DAGScheduler: Broadcasting large task binary with size 1257.8 KiB\n",
      "24/11/03 13:28:43 WARN DAGScheduler: Broadcasting large task binary with size 1322.4 KiB\n",
      "24/11/03 13:29:04 WARN DAGScheduler: Broadcasting large task binary with size 1439.2 KiB\n",
      "24/11/03 13:29:29 WARN DAGScheduler: Broadcasting large task binary with size 1526.6 KiB\n",
      "24/11/03 13:29:59 WARN DAGScheduler: Broadcasting large task binary with size 1490.7 KiB\n",
      "24/11/03 13:30:07 WARN DAGScheduler: Broadcasting large task binary with size 1081.9 KiB\n",
      "24/11/03 13:30:18 WARN DAGScheduler: Broadcasting large task binary with size 1375.4 KiB\n",
      "24/11/03 13:30:31 WARN DAGScheduler: Broadcasting large task binary with size 1835.0 KiB\n",
      "24/11/03 13:30:46 WARN DAGScheduler: Broadcasting large task binary with size 1536.6 KiB\n",
      "24/11/03 13:30:55 WARN DAGScheduler: Broadcasting large task binary with size 1081.9 KiB\n",
      "24/11/03 13:31:05 WARN DAGScheduler: Broadcasting large task binary with size 1375.4 KiB\n",
      "24/11/03 13:31:18 WARN DAGScheduler: Broadcasting large task binary with size 1835.0 KiB\n",
      "24/11/03 13:31:33 WARN DAGScheduler: Broadcasting large task binary with size 2.1 MiB\n",
      "24/11/03 13:31:52 WARN DAGScheduler: Broadcasting large task binary with size 2.4 MiB\n",
      "24/11/03 13:32:27 WARN DAGScheduler: Broadcasting large task binary with size 2.6 MiB\n",
      "24/11/03 13:33:05 WARN DAGScheduler: Broadcasting large task binary with size 2.9 MiB\n",
      "24/11/03 13:34:04 WARN DAGScheduler: Broadcasting large task binary with size 3.2 MiB\n",
      "24/11/03 13:35:17 WARN DAGScheduler: Broadcasting large task binary with size 3.0 MiB\n",
      "24/11/03 13:35:37 WARN DAGScheduler: Broadcasting large task binary with size 1077.1 KiB\n",
      "24/11/03 13:36:05 WARN DAGScheduler: Broadcasting large task binary with size 1077.1 KiB\n",
      "24/11/03 13:36:13 WARN DAGScheduler: Broadcasting large task binary with size 1196.0 KiB\n",
      "24/11/03 13:36:27 WARN DAGScheduler: Broadcasting large task binary with size 1392.2 KiB\n",
      "24/11/03 13:36:38 WARN DAGScheduler: Broadcasting large task binary with size 1453.2 KiB\n",
      "24/11/03 13:36:58 WARN DAGScheduler: Broadcasting large task binary with size 1679.2 KiB\n",
      "24/11/03 13:37:24 WARN DAGScheduler: Broadcasting large task binary with size 1824.8 KiB\n",
      "24/11/03 13:37:52 WARN DAGScheduler: Broadcasting large task binary with size 1779.8 KiB\n",
      "24/11/03 13:38:00 WARN DAGScheduler: Broadcasting large task binary with size 1049.7 KiB\n",
      "24/11/03 13:38:11 WARN DAGScheduler: Broadcasting large task binary with size 1429.8 KiB\n",
      "24/11/03 13:38:24 WARN DAGScheduler: Broadcasting large task binary with size 1665.4 KiB\n",
      "24/11/03 13:38:41 WARN DAGScheduler: Broadcasting large task binary with size 1406.1 KiB\n",
      "24/11/03 13:38:49 WARN DAGScheduler: Broadcasting large task binary with size 1049.7 KiB\n",
      "24/11/03 13:39:00 WARN DAGScheduler: Broadcasting large task binary with size 1429.8 KiB\n",
      "24/11/03 13:39:13 WARN DAGScheduler: Broadcasting large task binary with size 1665.4 KiB\n",
      "24/11/03 13:39:29 WARN DAGScheduler: Broadcasting large task binary with size 1833.0 KiB\n",
      "24/11/03 13:39:47 WARN DAGScheduler: Broadcasting large task binary with size 1986.3 KiB\n",
      "24/11/03 13:40:23 WARN DAGScheduler: Broadcasting large task binary with size 2.3 MiB\n",
      "24/11/03 13:41:04 WARN DAGScheduler: Broadcasting large task binary with size 2.7 MiB\n",
      "24/11/03 13:42:06 WARN DAGScheduler: Broadcasting large task binary with size 2.9 MiB\n",
      "24/11/03 13:43:17 WARN DAGScheduler: Broadcasting large task binary with size 2.7 MiB\n",
      "24/11/03 13:43:34 WARN DAGScheduler: Broadcasting large task binary with size 1117.5 KiB\n",
      "24/11/03 13:43:43 WARN DAGScheduler: Broadcasting large task binary with size 1079.4 KiB\n",
      "24/11/03 13:43:58 WARN DAGScheduler: Broadcasting large task binary with size 1117.5 KiB\n",
      "24/11/03 13:44:05 WARN DAGScheduler: Broadcasting large task binary with size 1313.7 KiB\n",
      "24/11/03 13:44:20 WARN DAGScheduler: Broadcasting large task binary with size 1532.9 KiB\n",
      "24/11/03 13:44:31 WARN DAGScheduler: Broadcasting large task binary with size 1642.9 KiB\n",
      "24/11/03 13:44:46 WARN DAGScheduler: Broadcasting large task binary with size 1788.6 KiB\n",
      "24/11/03 13:45:05 WARN DAGScheduler: Broadcasting large task binary with size 1880.2 KiB\n",
      "24/11/03 13:45:31 WARN DAGScheduler: Broadcasting large task binary with size 1806.0 KiB\n",
      "24/11/03 13:45:39 WARN DAGScheduler: Broadcasting large task binary with size 1047.7 KiB\n",
      "24/11/03 13:45:50 WARN DAGScheduler: Broadcasting large task binary with size 1511.4 KiB\n",
      "24/11/03 13:46:00 WARN DAGScheduler: Broadcasting large task binary with size 1778.4 KiB\n",
      "24/11/03 13:46:16 WARN DAGScheduler: Broadcasting large task binary with size 1600.6 KiB\n",
      "24/11/03 13:46:24 WARN DAGScheduler: Broadcasting large task binary with size 1047.7 KiB\n",
      "24/11/03 13:46:34 WARN DAGScheduler: Broadcasting large task binary with size 1511.4 KiB\n",
      "24/11/03 13:46:45 WARN DAGScheduler: Broadcasting large task binary with size 1778.4 KiB\n",
      "24/11/03 13:47:00 WARN DAGScheduler: Broadcasting large task binary with size 2.0 MiB\n",
      "24/11/03 13:47:19 WARN DAGScheduler: Broadcasting large task binary with size 2.2 MiB\n",
      "24/11/03 13:47:49 WARN DAGScheduler: Broadcasting large task binary with size 2.5 MiB\n",
      "24/11/03 13:48:31 WARN DAGScheduler: Broadcasting large task binary with size 2.7 MiB\n",
      "24/11/03 13:49:28 WARN DAGScheduler: Broadcasting large task binary with size 3.0 MiB\n",
      "24/11/03 13:50:41 WARN DAGScheduler: Broadcasting large task binary with size 3.0 MiB\n",
      "24/11/03 13:50:58 WARN DAGScheduler: Broadcasting large task binary with size 1088.4 KiB\n",
      "24/11/03 13:51:09 WARN DAGScheduler: Broadcasting large task binary with size 1465.8 KiB\n",
      "24/11/03 13:51:23 WARN DAGScheduler: Broadcasting large task binary with size 1789.6 KiB\n",
      "24/11/03 13:51:39 WARN DAGScheduler: Broadcasting large task binary with size 2.1 MiB\n",
      "24/11/03 13:51:58 WARN DAGScheduler: Broadcasting large task binary with size 2.4 MiB\n",
      "24/11/03 13:52:35 WARN DAGScheduler: Broadcasting large task binary with size 2.7 MiB\n",
      "24/11/03 13:53:18 WARN DAGScheduler: Broadcasting large task binary with size 2.9 MiB\n",
      "24/11/03 13:54:27 WARN DAGScheduler: Broadcasting large task binary with size 3.1 MiB\n",
      "24/11/03 13:55:55 WARN DAGScheduler: Broadcasting large task binary with size 3.2 MiB\n",
      "[Stage 446:>                                                        (0 + 1) / 1]\r"
     ]
    },
    {
     "name": "stdout",
     "output_type": "stream",
     "text": [
      "Random Forest AUC: 0.9999966725808476\n"
     ]
    },
    {
     "name": "stderr",
     "output_type": "stream",
     "text": [
      "                                                                                \r"
     ]
    }
   ],
   "source": [
    "rf = RandomForestClassifier(labelCol=\"is_killed\", featuresCol=\"features\", maxBins=15000)\n",
    "\n",
    "paramGrid_rf = ParamGridBuilder() \\\n",
    "    .addGrid(rf.numTrees, [10, 20]) \\\n",
    "    .addGrid(rf.maxDepth, [5, 10]) \\\n",
    "    .build()\n",
    "\n",
    "crossval_rf = CrossValidator(estimator=rf, estimatorParamMaps=paramGrid_rf,\n",
    "                             evaluator=BinaryClassificationEvaluator(labelCol=\"is_killed\", metricName=\"areaUnderROC\"),\n",
    "                             numFolds=3)\n",
    "\n",
    "rf_model = crossval_rf.fit(train_data)\n",
    "\n",
    "rf_predictions = rf_model.transform(test_data)\n",
    "evaluator = BinaryClassificationEvaluator(labelCol=\"is_killed\", metricName=\"areaUnderROC\")\n",
    "rf_auc = evaluator.evaluate(rf_predictions)\n",
    "print(f\"Random Forest AUC: {rf_auc}\")"
   ]
  },
  {
   "cell_type": "code",
   "execution_count": 142,
   "id": "e888739f-b5a8-48ee-8bf4-227ec8f67487",
   "metadata": {},
   "outputs": [
    {
     "name": "stderr",
     "output_type": "stream",
     "text": [
      "24/11/03 14:02:49 WARN DAGScheduler: Broadcasting large task binary with size 3.2 MiB\n",
      "                                                                                \r"
     ]
    }
   ],
   "source": [
    "preds_df = rf_predictions.select(\"is_killed\", \"probability\").toPandas()\n",
    "\n",
    "preds_df[\"probability\"] = preds_df[\"probability\"].apply(lambda x: x[1])\n",
    "true_labels = preds_df[\"is_killed\"]\n",
    "predicted_probs = preds_df[\"probability\"]"
   ]
  },
  {
   "cell_type": "code",
   "execution_count": 144,
   "id": "b14a9988-e0dc-4ff0-bc85-2274fbabb6b3",
   "metadata": {},
   "outputs": [
    {
     "data": {
      "image/png": "[encoded data removed]",
      "text/plain": [
       "<Figure size 800x600 with 1 Axes>"
      ]
     },
     "metadata": {},
     "output_type": "display_data"
    }
   ],
   "source": [
    "fpr, tpr, thresholds = roc_curve(true_labels, predicted_probs)\n",
    "roc_auc = auc(fpr, tpr)\n",
    "\n",
    "plt.figure(figsize=(8, 6))\n",
    "plt.plot(fpr, tpr, color=\"blue\", label=f\"Random Forest (AUC = {roc_auc:.2f})\")\n",
    "plt.plot([0, 1], [0, 1], color=\"gray\", linestyle=\"--\")\n",
    "plt.xlabel(\"False Positive Rate\")\n",
    "plt.ylabel(\"True Positive Rate\")\n",
    "plt.title(\"ROC Curve\")\n",
    "plt.legend(loc=\"lower right\")\n",
    "plt.show()"
   ]
  },
  {
   "cell_type": "code",
   "execution_count": 148,
   "id": "9509ad6a-7051-4c10-80ff-8b0a24a8f5b0",
   "metadata": {},
   "outputs": [
    {
     "name": "stdout",
     "output_type": "stream",
     "text": [
      "Accuracy: 0.9999\n",
      "Precision: 0.9997\n",
      "Recall: 1.0000\n",
      "F1 Score: 0.9999\n"
     ]
    }
   ],
   "source": [
    "preds_df[\"predicted_label\"] = (predicted_probs >= 0.5).astype(int)\n",
    "\n",
    "accuracy = accuracy_score(true_labels, preds_df[\"predicted_label\"])\n",
    "precision = precision_score(true_labels, preds_df[\"predicted_label\"])\n",
    "recall = recall_score(true_labels, preds_df[\"predicted_label\"])\n",
    "f1 = f1_score(true_labels, preds_df[\"predicted_label\"])\n",
    "\n",
    "print(f\"Accuracy: {accuracy:.4f}\")\n",
    "print(f\"Precision: {precision:.4f}\")\n",
    "print(f\"Recall: {recall:.4f}\")\n",
    "print(f\"F1 Score: {f1:.4f}\")"
   ]
  },
  {
   "cell_type": "markdown",
   "id": "625284db-3083-49be-bd39-2a31fd01c3bf",
   "metadata": {},
   "source": [
    "This might be overfitting we have to see."
   ]
  }
 ],
 "metadata": {
  "kernelspec": {
   "display_name": "Python 3 (ipykernel)",
   "language": "python",
   "name": "python3"
  },
  "language_info": {
   "codemirror_mode": {
    "name": "ipython",
    "version": 3
   },
   "file_extension": ".py",
   "mimetype": "text/x-python",
   "name": "python",
   "nbconvert_exporter": "python",
   "pygments_lexer": "ipython3",
   "version": "3.11.7"
  }
 },
 "nbformat": 4,
 "nbformat_minor": 5
}
