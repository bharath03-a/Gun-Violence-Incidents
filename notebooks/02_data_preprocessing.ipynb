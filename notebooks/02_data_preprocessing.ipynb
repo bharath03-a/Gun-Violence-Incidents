{
 "cells": [
  {
   "cell_type": "markdown",
   "id": "ef37d030-f4b3-4dc6-a57d-f78e136ba93e",
   "metadata": {},
   "source": [
    "### Note on what preprocessing should be done\n",
    "Refer Inference and TO DO in the `01_initial_exploratory_analysis.ipynb` File.\n",
    "1) Date format conversion\n",
    "2) Age Column Cleaning\n",
    "3) Removing unwanted Columns\n",
    "4) Check for cleaning on `state`, `city_or_county` and `address`\n",
    "5) Major cleaning reguired for the fields - `gun_stolen`, `gun_type`, `participant_age`, `participant_age_group`, `participant_gender`, `participant_name`, `participant_status` and `participant_type`.\n",
    "6) Clean Text Data - `incident_characterstics` and `notes`\n",
    "7) Change data types too\n",
    "\n",
    "And generate visualizations after cleaning too!\n",
    "\n",
    "Leave encoding out!"
   ]
  },
  {
   "cell_type": "code",
   "execution_count": 46,
   "id": "3e34d129-22b0-4e6e-b448-309f148c32af",
   "metadata": {},
   "outputs": [],
   "source": [
    "import warnings\n",
    "warnings.filterwarnings(\"ignore\")"
   ]
  },
  {
   "cell_type": "code",
   "execution_count": 50,
   "id": "d82e1896-2f7b-4ee3-8212-bc9df733a14c",
   "metadata": {},
   "outputs": [],
   "source": [
    "# Importing packages\n",
    "import pandas as pd\n",
    "import numpy as np\n",
    "import matplotlib.pyplot as plt\n",
    "import seaborn as sns"
   ]
  },
  {
   "cell_type": "code",
   "execution_count": 53,
   "id": "bd05d21e-337c-418c-9083-b68e05c41575",
   "metadata": {},
   "outputs": [],
   "source": [
    "%matplotlib inline\n",
    "plt.style.use('bmh')"
   ]
  },
  {
   "cell_type": "code",
   "execution_count": 56,
   "id": "5203860b-d41e-4532-b559-1fca1d9fb829",
   "metadata": {},
   "outputs": [],
   "source": [
    "# self created packages\n",
    "import sys\n",
    "import os\n",
    "\n",
    "sys.path.append(os.path.abspath(os.path.join(os.getcwd(), '..')))\n",
    "from scripts.visualizations import Visualization"
   ]
  },
  {
   "cell_type": "code",
   "execution_count": 151,
   "id": "b032604c-a94a-4f74-82d8-df3184ab45ae",
   "metadata": {},
   "outputs": [],
   "source": [
    "# pyspark packages\n",
    "from pyspark.sql import SparkSession\n",
    "from pyspark.sql.functions import col, sum, desc, explode, split, year, month, dayofweek\n",
    "from pyspark.sql.types import StructType, StructField, IntegerType, StringType, FloatType, BooleanType, DateType, DoubleType"
   ]
  },
  {
   "cell_type": "markdown",
   "id": "59411081-b313-40df-aa7b-a25396f6736d",
   "metadata": {},
   "source": [
    "### Setting Spark Session and Loading Data"
   ]
  },
  {
   "cell_type": "code",
   "execution_count": 83,
   "id": "b701572d-508e-43ee-b869-a0c84bd42ed5",
   "metadata": {},
   "outputs": [
    {
     "data": {
      "text/html": [
       "\n",
       "            <div>\n",
       "                <p><b>SparkSession - hive</b></p>\n",
       "                \n",
       "        <div>\n",
       "            <p><b>SparkContext</b></p>\n",
       "\n",
       "            <p><a href=\"http://bharaths-air:4041\">Spark UI</a></p>\n",
       "\n",
       "            <dl>\n",
       "              <dt>Version</dt>\n",
       "                <dd><code>v3.5.1</code></dd>\n",
       "              <dt>Master</dt>\n",
       "                <dd><code>local[*]</code></dd>\n",
       "              <dt>AppName</dt>\n",
       "                <dd><code>PySparkShell</code></dd>\n",
       "            </dl>\n",
       "        </div>\n",
       "        \n",
       "            </div>\n",
       "        "
      ],
      "text/plain": [
       "<pyspark.sql.session.SparkSession at 0x106247d90>"
      ]
     },
     "execution_count": 83,
     "metadata": {},
     "output_type": "execute_result"
    }
   ],
   "source": [
    "spark = SparkSession.builder \\\n",
    "    .appName(\"MIS548 Project PreProcessing\") \\\n",
    "    .config(\"spark.sql.debug.maxToStringFields\", \"1000\") \\\n",
    "    .getOrCreate()\n",
    "\n",
    "spark"
   ]
  },
  {
   "cell_type": "code",
   "execution_count": 85,
   "id": "43379dfd-0bde-4cc6-86ca-c2855ee2a0d4",
   "metadata": {},
   "outputs": [],
   "source": [
    "# creating data schema\n",
    "ip_data_schema = StructType([\n",
    "    StructField(\"incident_id\", IntegerType(), True),\n",
    "    StructField(\"date\", DateType(), True),\n",
    "    StructField(\"state\", StringType(), True),\n",
    "    StructField(\"city_or_county\", StringType(), True),\n",
    "    StructField(\"address\", StringType(), True),\n",
    "    StructField(\"n_killed\", IntegerType(), True),\n",
    "    StructField(\"n_injured\", IntegerType(), True),\n",
    "    StructField(\"incident_url\", StringType(), True),\n",
    "    StructField(\"source_url\", StringType(), True),\n",
    "    StructField(\"incident_url_fields_missing\", BooleanType(), True),\n",
    "    StructField(\"congressional_district\", IntegerType(), True),\n",
    "    StructField(\"gun_stolen\", StringType(), True),\n",
    "    StructField(\"gun_type\", StringType(), True),\n",
    "    StructField(\"incident_characteristics\", StringType(), True),\n",
    "    StructField(\"latitude\", DoubleType(), True),\n",
    "    StructField(\"location_description\", StringType(), True),\n",
    "    StructField(\"longitude\", DoubleType(), True),\n",
    "    StructField(\"n_guns_involved\", IntegerType(), True),\n",
    "    StructField(\"notes\", StringType(), True),\n",
    "    StructField(\"participant_age\", StringType(), True),\n",
    "    StructField(\"participant_age_group\", StringType(), True),\n",
    "    StructField(\"participant_gender\", StringType(), True),\n",
    "    StructField(\"participant_name\", StringType(), True),\n",
    "    StructField(\"participant_relationship\", StringType(), True),\n",
    "    StructField(\"participant_status\", StringType(), True),\n",
    "    StructField(\"participant_type\", StringType(), True),\n",
    "    StructField(\"sources\", StringType(), True),\n",
    "    StructField(\"state_house_district\", IntegerType(), True),\n",
    "    StructField(\"state_senate_district\", IntegerType(), True)\n",
    "])"
   ]
  },
  {
   "cell_type": "code",
   "execution_count": 88,
   "id": "7ce652cb-96ec-4f60-92aa-2c03eae81810",
   "metadata": {},
   "outputs": [],
   "source": [
    "ip_data = spark.read.option(\"header\", \"True\") \\\n",
    "                .option(\"inferSchema\", \"True\") \\\n",
    "                .option(\"quote\", '\"') \\\n",
    "                .option(\"escape\", '\"') \\\n",
    "                .option(\"sep\", \",\") \\\n",
    "                .option(\"ignoreLeadingWhiteSpace\", \"True\") \\\n",
    "                .option(\"ignoreTrailingWhiteSpace\", \"True\") \\\n",
    "                .option(\"multiLine\", \"True\") \\\n",
    "                .option(\"mode\", \"PERMISSIVE\") \\\n",
    "                .csv(\"../data/gun-violence-data_01-2013_03-2018.csv\", schema = ip_data_schema)"
   ]
  },
  {
   "cell_type": "code",
   "execution_count": 91,
   "id": "a26a0b9f-01ff-4b64-b9d9-0680750823bb",
   "metadata": {},
   "outputs": [
    {
     "name": "stderr",
     "output_type": "stream",
     "text": [
      "[Stage 0:>                                                          (0 + 1) / 1]\r"
     ]
    },
    {
     "name": "stdout",
     "output_type": "stream",
     "text": [
      "Number of records in the data : 239677\n",
      "Number of columns: 29\n"
     ]
    },
    {
     "name": "stderr",
     "output_type": "stream",
     "text": [
      "                                                                                \r"
     ]
    }
   ],
   "source": [
    "print(f\"Number of records in the data : {ip_data.count()}\")\n",
    "print(f\"Number of columns: {len(ip_data.columns)}\")"
   ]
  },
  {
   "cell_type": "code",
   "execution_count": 115,
   "id": "e67f20a8-ab10-4eb3-850a-30b1c003e44a",
   "metadata": {},
   "outputs": [
    {
     "name": "stdout",
     "output_type": "stream",
     "text": [
      "root\n",
      " |-- incident_id: integer (nullable = true)\n",
      " |-- date: date (nullable = true)\n",
      " |-- state: string (nullable = true)\n",
      " |-- city_or_county: string (nullable = true)\n",
      " |-- address: string (nullable = true)\n",
      " |-- n_killed: integer (nullable = true)\n",
      " |-- n_injured: integer (nullable = true)\n",
      " |-- incident_url: string (nullable = true)\n",
      " |-- source_url: string (nullable = true)\n",
      " |-- incident_url_fields_missing: boolean (nullable = true)\n",
      " |-- congressional_district: integer (nullable = true)\n",
      " |-- gun_stolen: string (nullable = true)\n",
      " |-- gun_type: string (nullable = true)\n",
      " |-- incident_characteristics: string (nullable = true)\n",
      " |-- latitude: double (nullable = true)\n",
      " |-- location_description: string (nullable = true)\n",
      " |-- longitude: double (nullable = true)\n",
      " |-- n_guns_involved: integer (nullable = true)\n",
      " |-- notes: string (nullable = true)\n",
      " |-- participant_age: string (nullable = true)\n",
      " |-- participant_age_group: string (nullable = true)\n",
      " |-- participant_gender: string (nullable = true)\n",
      " |-- participant_name: string (nullable = true)\n",
      " |-- participant_relationship: string (nullable = true)\n",
      " |-- participant_status: string (nullable = true)\n",
      " |-- participant_type: string (nullable = true)\n",
      " |-- sources: string (nullable = true)\n",
      " |-- state_house_district: integer (nullable = true)\n",
      " |-- state_senate_district: integer (nullable = true)\n",
      "\n"
     ]
    }
   ],
   "source": [
    "ip_data.printSchema()"
   ]
  },
  {
   "cell_type": "markdown",
   "id": "556adbdc-a747-41bd-ae1e-43e95b8d2b67",
   "metadata": {},
   "source": [
    "### Preprocessing"
   ]
  },
  {
   "cell_type": "markdown",
   "id": "cd672c7b-5d13-4746-ac4f-6cb9b773f0f2",
   "metadata": {},
   "source": [
    "#### Duplicate Check"
   ]
  },
  {
   "cell_type": "code",
   "execution_count": 106,
   "id": "51870f1c-66f4-4867-b143-4afdd2a72dbe",
   "metadata": {},
   "outputs": [],
   "source": [
    "# checking for duplicates\n",
    "def check_duplicates_except(df, column_to_exclude=\"\"):\n",
    "    columns_to_check = [col for col in df.columns if col != column_to_exclude]\n",
    "    \n",
    "    df_duplicates = df.groupBy(columns_to_check).count().filter(\"count > 1\")\n",
    "    \n",
    "    return df_duplicates"
   ]
  },
  {
   "cell_type": "code",
   "execution_count": 101,
   "id": "2fef0637-ee54-4faa-b181-7d2c2fa2cd33",
   "metadata": {},
   "outputs": [
    {
     "name": "stderr",
     "output_type": "stream",
     "text": [
      "[Stage 3:>                                                          (0 + 1) / 1]\r"
     ]
    },
    {
     "name": "stdout",
     "output_type": "stream",
     "text": [
      "Number of Duplicate Rows: 0\n"
     ]
    },
    {
     "name": "stderr",
     "output_type": "stream",
     "text": [
      "                                                                                \r"
     ]
    }
   ],
   "source": [
    "ip_data_dup_chk = check_duplicates_except(ip_data)\n",
    "\n",
    "print(f\"Number of Duplicate Rows: {ip_data_dup_chk.count()}\")"
   ]
  },
  {
   "cell_type": "code",
   "execution_count": 104,
   "id": "d3f00afe-6d99-445a-90f1-8b054e7e0d99",
   "metadata": {},
   "outputs": [],
   "source": [
    "# Drop duplicates if there are any\n",
    "# ip_data = ip_data.dropDuplicates()\n",
    "\n",
    "# print(\"DataFrame after dropping duplicates:\")\n",
    "# ip_data.count()"
   ]
  },
  {
   "cell_type": "markdown",
   "id": "8a3384e1-3ad2-48d9-9ef3-56101bbf716b",
   "metadata": {},
   "source": [
    "#### Null Values Check"
   ]
  },
  {
   "cell_type": "code",
   "execution_count": 118,
   "id": "6f930298-5214-476e-9dc4-638f4025e0c1",
   "metadata": {},
   "outputs": [],
   "source": [
    "def get_null_counts(df):\n",
    "    total_rows = df.count()\n",
    "    \n",
    "    null_counts = df.select([sum(col(c).isNull().cast('int')).alias(c) for c in df.columns])\n",
    "\n",
    "    narrow_null_counts = null_counts.selectExpr(\n",
    "                                    f\"'{null_counts.columns[0]}' as column_name\",\n",
    "                                    f\"{null_counts.columns[0]} as null_count\",\n",
    "                                    f\"({null_counts.columns[0]} / {total_rows} * 100) as null_percentage\")\n",
    "\n",
    "    for c in null_counts.columns[1:]:\n",
    "        next_col = null_counts.selectExpr(f\"'{c}' as column_name\", \n",
    "                                          f\"{c} as null_count\",\n",
    "                                          f\"({c} / {total_rows} * 100) as null_percentage\")\n",
    "        narrow_null_counts = narrow_null_counts.union(next_col)\n",
    "    \n",
    "    narrow_null_counts = narrow_null_counts.orderBy(desc(\"null_count\"))\n",
    "    \n",
    "    return narrow_null_counts"
   ]
  },
  {
   "cell_type": "code",
   "execution_count": 121,
   "id": "1b0c918d-d060-4ba7-a321-2c3b80bc3560",
   "metadata": {},
   "outputs": [
    {
     "name": "stderr",
     "output_type": "stream",
     "text": [
      "                                                                                \r"
     ]
    },
    {
     "name": "stdout",
     "output_type": "stream",
     "text": [
      "+---------------------------+----------+-------------------+\n",
      "|column_name                |null_count|null_percentage    |\n",
      "+---------------------------+----------+-------------------+\n",
      "|participant_relationship   |223903    |93.4186425898188   |\n",
      "|location_description       |197588    |82.43928286819344  |\n",
      "|participant_name           |122253    |51.00739745574252  |\n",
      "|gun_stolen                 |99498     |41.51337007722894  |\n",
      "|gun_type                   |99451     |41.493760352474375 |\n",
      "|n_guns_involved            |99451     |41.493760352474375 |\n",
      "|participant_age            |92298     |38.509327136104005 |\n",
      "|notes                      |81017     |33.80257596682201  |\n",
      "|participant_age_group      |42119     |17.573233977394576 |\n",
      "|state_house_district       |38772     |16.17677123795775  |\n",
      "|participant_gender         |36362     |15.171251309053435 |\n",
      "|state_senate_district      |32335     |13.49107340295481  |\n",
      "|participant_status         |27626     |11.526345873821851 |\n",
      "|participant_type           |24863     |10.37354439516516  |\n",
      "|address                    |16497     |6.883013388852498  |\n",
      "|congressional_district     |11944     |4.983373456777246  |\n",
      "|latitude                   |7923      |3.305698919796226  |\n",
      "|longitude                  |7923      |3.305698919796226  |\n",
      "|sources                    |609       |0.25409196543681706|\n",
      "|source_url                 |468       |0.19526279117312048|\n",
      "|incident_characteristics   |326       |0.13601638872315658|\n",
      "|incident_id                |0         |0.0                |\n",
      "|date                       |0         |0.0                |\n",
      "|state                      |0         |0.0                |\n",
      "|city_or_county             |0         |0.0                |\n",
      "|n_killed                   |0         |0.0                |\n",
      "|n_injured                  |0         |0.0                |\n",
      "|incident_url               |0         |0.0                |\n",
      "|incident_url_fields_missing|0         |0.0                |\n",
      "+---------------------------+----------+-------------------+\n",
      "\n"
     ]
    }
   ],
   "source": [
    "narrow_null_counts = get_null_counts(ip_data)\n",
    "narrow_null_counts.show(n=29, truncate=False)"
   ]
  },
  {
   "cell_type": "markdown",
   "id": "13c0092a-b667-4ed8-a814-49edcfa87e6c",
   "metadata": {},
   "source": [
    "There are some columns which do not add much significance to our analysis. We are dropping those out to aid in the processing  speed.\n",
    "\n",
    "Might drop participant_age_group, state_house_district, state_senate_district, participant_name Later"
   ]
  },
  {
   "cell_type": "code",
   "execution_count": 134,
   "id": "9140a193-2406-4b8a-8bdf-d29123b3c669",
   "metadata": {},
   "outputs": [],
   "source": [
    "trivial_columns = [\"participant_relationship\", \"location_description\", \"sources\", \"source_url\", \n",
    "                   \"incident_url\", \"incident_url_fields_missing\"]"
   ]
  },
  {
   "cell_type": "code",
   "execution_count": 136,
   "id": "6f17b99b-b8f2-4152-81e1-eef9aa07dd19",
   "metadata": {},
   "outputs": [],
   "source": [
    "ip_data = ip_data.drop(*trivial_columns)"
   ]
  },
  {
   "cell_type": "markdown",
   "id": "9cb1309c-ee06-4a3b-90e2-bdf34e73f1ae",
   "metadata": {},
   "source": [
    "For missing data, our plan is to impute the data. But some models such as Decision Trees, Random Forest, XGBoost do cater for missing data.\n",
    "\n",
    "My plan is the use different sets of data and verify the performance. Let's see how it goes. So I would do the imputation after all the necessary preprocessing is done."
   ]
  },
  {
   "cell_type": "markdown",
   "id": "9fdd1c44-3d80-48b2-8281-7add9348a017",
   "metadata": {},
   "source": [
    "#### New Date Features"
   ]
  },
  {
   "cell_type": "code",
   "execution_count": 157,
   "id": "f345362c-d6f1-4015-a170-7a1f4bba3c1d",
   "metadata": {},
   "outputs": [],
   "source": [
    "ip_data = ip_data.withColumn(\"year\", year(\"date\")) \\\n",
    "                .withColumn(\"month\", month(\"date\")) \\\n",
    "                .withColumn(\"day_of_week\", dayofweek(\"date\"))"
   ]
  },
  {
   "cell_type": "code",
   "execution_count": 159,
   "id": "adb6cb2f-9e26-44a1-a7a8-b61f4cd3451f",
   "metadata": {},
   "outputs": [
    {
     "name": "stdout",
     "output_type": "stream",
     "text": [
      "+----------+----+-----+-----------+\n",
      "|      date|year|month|day_of_week|\n",
      "+----------+----+-----+-----------+\n",
      "|2013-01-01|2013|    1|          3|\n",
      "|2013-01-01|2013|    1|          3|\n",
      "|2013-01-01|2013|    1|          3|\n",
      "|2013-01-05|2013|    1|          7|\n",
      "|2013-01-07|2013|    1|          2|\n",
      "+----------+----+-----+-----------+\n",
      "only showing top 5 rows\n",
      "\n"
     ]
    }
   ],
   "source": [
    "ip_data.select(\"date\", \"year\", \"month\", \"day_of_week\").show(5)"
   ]
  }
 ],
 "metadata": {
  "kernelspec": {
   "display_name": "Python 3 (ipykernel)",
   "language": "python",
   "name": "python3"
  },
  "language_info": {
   "codemirror_mode": {
    "name": "ipython",
    "version": 3
   },
   "file_extension": ".py",
   "mimetype": "text/x-python",
   "name": "python",
   "nbconvert_exporter": "python",
   "pygments_lexer": "ipython3",
   "version": "3.11.7"
  }
 },
 "nbformat": 4,
 "nbformat_minor": 5
}
