{
 "cells": [
  {
   "cell_type": "markdown",
   "id": "e5548112-1bb1-4dfc-95b4-93e679d89dd6",
   "metadata": {},
   "source": [
    "#### Importing Libraries"
   ]
  },
  {
   "cell_type": "code",
   "execution_count": 2,
   "id": "97b411ea-a4ee-477c-aa21-900b93b1af10",
   "metadata": {},
   "outputs": [],
   "source": [
    "import warnings\n",
    "warnings.filterwarnings(\"ignore\")"
   ]
  },
  {
   "cell_type": "code",
   "execution_count": 3,
   "id": "a5925efc-e415-4d78-bc02-3858e792dfcd",
   "metadata": {},
   "outputs": [],
   "source": [
    "# Importing packages\n",
    "import pandas as pd\n",
    "import numpy as np\n",
    "import matplotlib.pyplot as plt\n",
    "import seaborn as sns"
   ]
  },
  {
   "cell_type": "code",
   "execution_count": 4,
   "id": "6e7b6b30-6896-4e28-a0c3-d75c67805822",
   "metadata": {},
   "outputs": [],
   "source": [
    "# pyspark packages\n",
    "from pyspark.sql import SparkSession\n",
    "from pyspark.sql.functions import col, sum, desc"
   ]
  },
  {
   "cell_type": "markdown",
   "id": "8440a2ac-7c1e-4c6f-a7da-d351d0b215b2",
   "metadata": {},
   "source": [
    "#### Setting Spark Session and Loading Data"
   ]
  },
  {
   "cell_type": "code",
   "execution_count": 6,
   "id": "d616a713-437d-4d37-9197-613bb59c6d57",
   "metadata": {},
   "outputs": [
    {
     "name": "stderr",
     "output_type": "stream",
     "text": [
      "24/10/12 18:03:51 WARN SparkSession: Using an existing Spark session; only runtime SQL configurations will take effect.\n"
     ]
    },
    {
     "data": {
      "text/html": [
       "\n",
       "            <div>\n",
       "                <p><b>SparkSession - hive</b></p>\n",
       "                \n",
       "        <div>\n",
       "            <p><b>SparkContext</b></p>\n",
       "\n",
       "            <p><a href=\"http://bharaths-air:4040\">Spark UI</a></p>\n",
       "\n",
       "            <dl>\n",
       "              <dt>Version</dt>\n",
       "                <dd><code>v3.5.1</code></dd>\n",
       "              <dt>Master</dt>\n",
       "                <dd><code>local[*]</code></dd>\n",
       "              <dt>AppName</dt>\n",
       "                <dd><code>PySparkShell</code></dd>\n",
       "            </dl>\n",
       "        </div>\n",
       "        \n",
       "            </div>\n",
       "        "
      ],
      "text/plain": [
       "<pyspark.sql.session.SparkSession at 0x10cf79750>"
      ]
     },
     "execution_count": 6,
     "metadata": {},
     "output_type": "execute_result"
    }
   ],
   "source": [
    "spark = SparkSession.builder \\\n",
    "    .appName(\"MIS548 Project\") \\\n",
    "    .config(\"spark.sql.debug.maxToStringFields\", \"1000\") \\\n",
    "    .getOrCreate()\n",
    "\n",
    "spark"
   ]
  },
  {
   "cell_type": "code",
   "execution_count": 7,
   "id": "60543c80-c8c2-4431-8930-2ad491a81eba",
   "metadata": {},
   "outputs": [
    {
     "name": "stdout",
     "output_type": "stream",
     "text": [
      "Number of records in the data : 246939\n",
      "Number of columns: 29\n"
     ]
    }
   ],
   "source": [
    "ip_data = spark.read.option(\"delimiter\", \",\") \\\n",
    "                .option(\"header\", True) \\\n",
    "                .csv(\"../data/gun-violence-data_01-2013_03-2018.csv\")\n",
    "\n",
    "print(f\"Number of records in the data : {ip_data.count()}\")\n",
    "print(f\"Number of columns: {len(ip_data.columns)}\")"
   ]
  },
  {
   "cell_type": "code",
   "execution_count": 8,
   "id": "db219fb9-6637-42c1-a8c9-b7cc2d0c0ff0",
   "metadata": {},
   "outputs": [
    {
     "name": "stdout",
     "output_type": "stream",
     "text": [
      "root\n",
      " |-- incident_id: string (nullable = true)\n",
      " |-- date: string (nullable = true)\n",
      " |-- state: string (nullable = true)\n",
      " |-- city_or_county: string (nullable = true)\n",
      " |-- address: string (nullable = true)\n",
      " |-- n_killed: string (nullable = true)\n",
      " |-- n_injured: string (nullable = true)\n",
      " |-- incident_url: string (nullable = true)\n",
      " |-- source_url: string (nullable = true)\n",
      " |-- incident_url_fields_missing: string (nullable = true)\n",
      " |-- congressional_district: string (nullable = true)\n",
      " |-- gun_stolen: string (nullable = true)\n",
      " |-- gun_type: string (nullable = true)\n",
      " |-- incident_characteristics: string (nullable = true)\n",
      " |-- latitude: string (nullable = true)\n",
      " |-- location_description: string (nullable = true)\n",
      " |-- longitude: string (nullable = true)\n",
      " |-- n_guns_involved: string (nullable = true)\n",
      " |-- notes: string (nullable = true)\n",
      " |-- participant_age: string (nullable = true)\n",
      " |-- participant_age_group: string (nullable = true)\n",
      " |-- participant_gender: string (nullable = true)\n",
      " |-- participant_name: string (nullable = true)\n",
      " |-- participant_relationship: string (nullable = true)\n",
      " |-- participant_status: string (nullable = true)\n",
      " |-- participant_type: string (nullable = true)\n",
      " |-- sources: string (nullable = true)\n",
      " |-- state_house_district: string (nullable = true)\n",
      " |-- state_senate_district: string (nullable = true)\n",
      "\n"
     ]
    }
   ],
   "source": [
    "ip_data.printSchema()"
   ]
  },
  {
   "cell_type": "markdown",
   "id": "40884540-eccc-4428-91e7-d92aef3ded14",
   "metadata": {},
   "source": [
    "**TO DO:**\n",
    "\n",
    "All of the data types of the columns seems to be loaded as `string`, so we may need to convert the data types of our columns while reading the file."
   ]
  },
  {
   "cell_type": "markdown",
   "id": "7a04d137-a1fe-47f7-b156-f578dd942ae5",
   "metadata": {},
   "source": [
    "#### Missing Values and Duplicate Data Check"
   ]
  },
  {
   "cell_type": "code",
   "execution_count": 11,
   "id": "e1bcd2ab-46d6-4b2f-bf59-a53ad41a0629",
   "metadata": {},
   "outputs": [],
   "source": [
    "def get_null_counts(df):\n",
    "    total_rows = df.count()\n",
    "    \n",
    "    null_counts = df.select([sum(col(c).isNull().cast('int')).alias(c) for c in df.columns])\n",
    "\n",
    "    narrow_null_counts = null_counts.selectExpr(\n",
    "                                    f\"'{null_counts.columns[0]}' as column_name\",\n",
    "                                    f\"{null_counts.columns[0]} as null_count\",\n",
    "                                    f\"({null_counts.columns[0]} / {total_rows} * 100) as null_percentage\")\n",
    "\n",
    "    for c in null_counts.columns[1:]:\n",
    "        next_col = null_counts.selectExpr(f\"'{c}' as column_name\", \n",
    "                                          f\"{c} as null_count\",\n",
    "                                          f\"({c} / {total_rows} * 100) as null_percentage\")\n",
    "        narrow_null_counts = narrow_null_counts.union(next_col)\n",
    "    \n",
    "    narrow_null_counts = narrow_null_counts.orderBy(desc(\"null_count\"))\n",
    "    \n",
    "    return narrow_null_counts"
   ]
  },
  {
   "cell_type": "code",
   "execution_count": 12,
   "id": "c32d8658-e0c3-46f6-9b0b-3571bee13859",
   "metadata": {},
   "outputs": [
    {
     "name": "stderr",
     "output_type": "stream",
     "text": [
      "                                                                                \r"
     ]
    },
    {
     "name": "stdout",
     "output_type": "stream",
     "text": [
      "+---------------------------+----------+-------------------+\n",
      "|column_name                |null_count|null_percentage    |\n",
      "+---------------------------+----------+-------------------+\n",
      "|participant_relationship   |231691    |93.82519569610308  |\n",
      "|location_description       |204849    |82.95530475137585  |\n",
      "|participant_name           |133328    |53.99228149462013  |\n",
      "|n_guns_involved            |106713    |43.21431608615893  |\n",
      "|gun_type                   |106690    |43.205002045039464 |\n",
      "|participant_age            |104130    |42.168308772611866 |\n",
      "|gun_stolen                 |100965    |40.88661572291132  |\n",
      "|notes                      |88279     |35.7493146080611   |\n",
      "|participant_age_group      |55382     |22.42740109905685  |\n",
      "|state_house_district       |52070     |21.08617917785364  |\n",
      "|participant_gender         |49778     |20.1580147323833   |\n",
      "|state_senate_district      |45852     |18.56814840912128  |\n",
      "|participant_status         |41347     |16.743811224634424 |\n",
      "|participant_type           |38597     |15.630175873393833 |\n",
      "|address                    |17717     |7.174646370156193  |\n",
      "|longitude                  |15185     |6.149291930395766  |\n",
      "|latitude                   |15184     |6.148886972086224  |\n",
      "|sources                    |14895     |6.031854020628576  |\n",
      "|congressional_district     |13125     |5.315077812739179  |\n",
      "|incident_characteristics   |7584      |3.071203819566776  |\n",
      "|n_injured                  |6142      |2.4872539372071647 |\n",
      "|n_killed                   |3714      |1.5040151616391093 |\n",
      "|state                      |2552      |1.0334536059512673 |\n",
      "|source_url                 |1292      |0.5232061359283062 |\n",
      "|city_or_county             |1274      |0.5159168863565495 |\n",
      "|incident_url               |935       |0.37863601942180053|\n",
      "|incident_url_fields_missing|369       |0.14942961622101003|\n",
      "|date                       |236       |0.0955701610519197 |\n",
      "|incident_id                |0         |0.0                |\n",
      "+---------------------------+----------+-------------------+\n",
      "\n"
     ]
    }
   ],
   "source": [
    "narrow_null_counts = get_null_counts(ip_data)\n",
    "narrow_null_counts.show(n=29, truncate=False)"
   ]
  },
  {
   "cell_type": "markdown",
   "id": "0ca901df-fb73-4e9e-aaf2-b4e32657b104",
   "metadata": {},
   "source": [
    "**Inference:**\n",
    "Almost all the columns are having missing values. Some with signficant amount of missing values such as `participant_relationship`, `location_description`, `participant_name`, `n_guns_involved`, `gun_type`, `participant_age`, `gun_stolen`. From the above mentioned columns we might not use any of them for analysis except for `participant_age`, `n_guns_involved`, `gun_type`. So we might need to drop these columns instead of handling this missing data.\n",
    "\n",
    "For the rest of the missing data we might need to handle those missing data.\n",
    "\n",
    "**TO DO:**\n",
    "1) We might need to drop the rows with missing information for the key columns such as `date`, `city_or_county`, `state` to allow for authenticity of the data. Instead of imputing the data.\n",
    "2) We might impute for some columns with missing data and mention it clearly.\n",
    "3) Or we might actually replace NA values with some key word such as `MISSING` or `UNKNOWN` for categorical data and `0` or other numeric values for the numerical data.\n"
   ]
  },
  {
   "cell_type": "code",
   "execution_count": 14,
   "id": "4309e6b7-ee3e-4152-9846-96eb5aa480e4",
   "metadata": {},
   "outputs": [],
   "source": [
    "def check_duplicates_except(df, column_to_exclude=\"incident_id\"):\n",
    "    columns_to_check = [col for col in df.columns if col != column_to_exclude]\n",
    "    \n",
    "    df_duplicates = df.groupBy(columns_to_check).count().filter(\"count > 1\")\n",
    "    \n",
    "    return df_duplicates"
   ]
  },
  {
   "cell_type": "code",
   "execution_count": 15,
   "id": "ffbcdd1b-554d-4a11-b102-9321ddd4999b",
   "metadata": {},
   "outputs": [
    {
     "name": "stderr",
     "output_type": "stream",
     "text": [
      "                                                                                \r"
     ]
    },
    {
     "name": "stdout",
     "output_type": "stream",
     "text": [
      "Number of Duplicate Rows: 1\n"
     ]
    },
    {
     "name": "stderr",
     "output_type": "stream",
     "text": [
      "                                                                                \r"
     ]
    },
    {
     "name": "stdout",
     "output_type": "stream",
     "text": [
      "Frequency of the Duplicated Row: 108\n"
     ]
    }
   ],
   "source": [
    "ip_data_dup_chk = check_duplicates_except(ip_data)\n",
    "\n",
    "print(f\"Number of Duplicate Rows: {ip_data_dup_chk.count()}\")\n",
    "print(f\"Frequency of the Duplicated Row: {ip_data_dup_chk.select('count').first()[0]}\")"
   ]
  },
  {
   "cell_type": "markdown",
   "id": "91809b77-c2a9-4ac2-9863-42186f6c9671",
   "metadata": {},
   "source": [
    "**TO DO:**\n",
    "\n",
    "The duplicate row is nothing but containing all `NULL` values in all columns."
   ]
  },
  {
   "cell_type": "markdown",
   "id": "420f4232-5567-4f9d-9cbe-4a0834126922",
   "metadata": {},
   "source": [
    "#### Categorical Columns Analysis\n",
    "\n",
    "By having an initial look at the data we can identify what are the categorical data columns and columns with string values we are having.\n",
    "\n",
    "And we won't be analyzing few columns as they do not add much insights and we might drop those columns too.\n",
    "The columns which we won't be using are:\n",
    "`incident_id`, `incident_url`, `source_url`, `incident_url_fields_missing`, `location_description`, `participant_name`, `participant_relationship`, `sources`."
   ]
  },
  {
   "cell_type": "code",
   "execution_count": 18,
   "id": "d8d01877-306d-4ebf-a0a5-fb1d393cd4f2",
   "metadata": {},
   "outputs": [],
   "source": [
    "str_cols = [\"state\", \"city_or_county\", \"address\", \"congressional_district\", \"gun_stolen\",\n",
    "            \"gun_type\", \"incident_characteristics\", \"participant_age\", \"participant_age_group\", \n",
    "            \"participant_gender\", \"participant_status\", \"participant_type\", \"state_house_district\", \n",
    "            \"state_senate_district\"]"
   ]
  },
  {
   "cell_type": "code",
   "execution_count": 19,
   "id": "c9e795b7-9cb1-42d0-9c82-7eb1f7149efe",
   "metadata": {},
   "outputs": [],
   "source": [
    "def get_unq_val_cnts(df):\n",
    "    for col in df.columns:\n",
    "        unq_val = df.select(col).distinct().count()\n",
    "        print(f\"Total unique values in the column {col} : {unq_val}\")\n",
    "\n",
    "def get_most_freq(df):\n",
    "    for col in df.columns:\n",
    "        print(f\"Top 5 frequent values for {col}:\")\n",
    "        df.groupBy(col).count().orderBy('count', ascending=False).show(5)"
   ]
  },
  {
   "cell_type": "code",
   "execution_count": 20,
   "id": "be7e1d76-3463-4c19-a924-eb3c026556a6",
   "metadata": {},
   "outputs": [
    {
     "name": "stderr",
     "output_type": "stream",
     "text": [
      "                                                                                \r"
     ]
    },
    {
     "name": "stdout",
     "output_type": "stream",
     "text": [
      "Total unique values in the column state : 1534\n"
     ]
    },
    {
     "name": "stderr",
     "output_type": "stream",
     "text": [
      "                                                                                \r"
     ]
    },
    {
     "name": "stdout",
     "output_type": "stream",
     "text": [
      "Total unique values in the column city_or_county : 13090\n",
      "Total unique values in the column address : 198561\n",
      "Total unique values in the column congressional_district : 222\n",
      "Total unique values in the column gun_stolen : 428\n"
     ]
    },
    {
     "name": "stderr",
     "output_type": "stream",
     "text": [
      "                                                                                \r"
     ]
    },
    {
     "name": "stdout",
     "output_type": "stream",
     "text": [
      "Total unique values in the column gun_type : 2521\n"
     ]
    },
    {
     "name": "stderr",
     "output_type": "stream",
     "text": [
      "                                                                                \r"
     ]
    },
    {
     "name": "stdout",
     "output_type": "stream",
     "text": [
      "Total unique values in the column incident_characteristics : 18132\n",
      "Total unique values in the column participant_age : 18602\n"
     ]
    },
    {
     "name": "stderr",
     "output_type": "stream",
     "text": [
      "                                                                                \r"
     ]
    },
    {
     "name": "stdout",
     "output_type": "stream",
     "text": [
      "Total unique values in the column participant_age_group : 1018\n",
      "Total unique values in the column participant_gender : 932\n",
      "Total unique values in the column participant_status : 2164\n",
      "Total unique values in the column participant_type : 328\n",
      "Total unique values in the column state_house_district : 431\n",
      "Total unique values in the column state_senate_district : 159\n"
     ]
    }
   ],
   "source": [
    "cat_ip_data = ip_data.select(*str_cols)\n",
    "get_unq_val_cnts(cat_ip_data)"
   ]
  },
  {
   "cell_type": "code",
   "execution_count": 21,
   "id": "199e23cf-58c3-46db-a508-f8949fc072a8",
   "metadata": {},
   "outputs": [
    {
     "name": "stdout",
     "output_type": "stream",
     "text": [
      "Top 5 frequent values for state:\n",
      "+----------+-----+\n",
      "|     state|count|\n",
      "+----------+-----+\n",
      "|  Illinois|17556|\n",
      "|California|16306|\n",
      "|   Florida|15029|\n",
      "|     Texas|13577|\n",
      "|      Ohio|10244|\n",
      "+----------+-----+\n",
      "only showing top 5 rows\n",
      "\n",
      "Top 5 frequent values for city_or_county:\n"
     ]
    },
    {
     "name": "stderr",
     "output_type": "stream",
     "text": [
      "                                                                                \r"
     ]
    },
    {
     "name": "stdout",
     "output_type": "stream",
     "text": [
      "+--------------+-----+\n",
      "|city_or_county|count|\n",
      "+--------------+-----+\n",
      "|       Chicago|10814|\n",
      "|     Baltimore| 3943|\n",
      "|    Washington| 3279|\n",
      "|   New Orleans| 3071|\n",
      "|  Philadelphia| 2963|\n",
      "+--------------+-----+\n",
      "only showing top 5 rows\n",
      "\n",
      "Top 5 frequent values for address:\n"
     ]
    },
    {
     "name": "stderr",
     "output_type": "stream",
     "text": [
      "                                                                                \r"
     ]
    },
    {
     "name": "stdout",
     "output_type": "stream",
     "text": [
      "+--------------------+-----+\n",
      "|             address|count|\n",
      "+--------------------+-----+\n",
      "|                NULL|17717|\n",
      "|             0::Male| 2594|\n",
      "|    0::Male||1::Male| 1253|\n",
      "|0::Male||1::Male|...|  326|\n",
      "|  0::Female||1::Male|  295|\n",
      "+--------------------+-----+\n",
      "only showing top 5 rows\n",
      "\n",
      "Top 5 frequent values for congressional_district:\n",
      "+----------------------+-----+\n",
      "|congressional_district|count|\n",
      "+----------------------+-----+\n",
      "|                     1|36975|\n",
      "|                     2|27055|\n",
      "|                     3|20711|\n",
      "|                     7|19763|\n",
      "|                     4|18563|\n",
      "+----------------------+-----+\n",
      "only showing top 5 rows\n",
      "\n",
      "Top 5 frequent values for gun_stolen:\n",
      "+--------------------+------+\n",
      "|          gun_stolen| count|\n",
      "+--------------------+------+\n",
      "|          0::Unknown|121310|\n",
      "|                NULL|100965|\n",
      "|0::Unknown||1::Un...|  6116|\n",
      "|           0::Stolen|  4503|\n",
      "|0::Unknown||1::Un...|  1484|\n",
      "+--------------------+------+\n",
      "only showing top 5 rows\n",
      "\n",
      "Top 5 frequent values for gun_type:\n",
      "+--------------------+------+\n",
      "|            gun_type| count|\n",
      "+--------------------+------+\n",
      "|                NULL|106690|\n",
      "|          0::Unknown| 93559|\n",
      "|          0::Handgun| 13018|\n",
      "|              0::9mm|  4599|\n",
      "|0::Unknown||1::Un...|  2410|\n",
      "+--------------------+------+\n",
      "only showing top 5 rows\n",
      "\n",
      "Top 5 frequent values for incident_characteristics:\n",
      "+------------------------+-----+\n",
      "|incident_characteristics|count|\n",
      "+------------------------+-----+\n",
      "|    Shot - Wounded/In...|47541|\n",
      "|    Shot - Dead (murd...|23019|\n",
      "|    Shots Fired - No ...|15690|\n",
      "|                    NULL| 7584|\n",
      "|    Shot - Wounded/In...| 5121|\n",
      "+------------------------+-----+\n",
      "only showing top 5 rows\n",
      "\n",
      "Top 5 frequent values for participant_age:\n"
     ]
    },
    {
     "name": "stderr",
     "output_type": "stream",
     "text": [
      "                                                                                \r"
     ]
    },
    {
     "name": "stdout",
     "output_type": "stream",
     "text": [
      "+---------------+------+\n",
      "|participant_age| count|\n",
      "+---------------+------+\n",
      "|           NULL|104130|\n",
      "|          0::24|  3712|\n",
      "|          0::23|  3626|\n",
      "|          0::19|  3625|\n",
      "|          0::22|  3623|\n",
      "+---------------+------+\n",
      "only showing top 5 rows\n",
      "\n",
      "Top 5 frequent values for participant_age_group:\n"
     ]
    },
    {
     "name": "stderr",
     "output_type": "stream",
     "text": [
      "                                                                                \r"
     ]
    },
    {
     "name": "stdout",
     "output_type": "stream",
     "text": [
      "+---------------------+-----+\n",
      "|participant_age_group|count|\n",
      "+---------------------+-----+\n",
      "|         0::Adult 18+|91790|\n",
      "|                 NULL|55382|\n",
      "| 0::Adult 18+||1::...|47625|\n",
      "| 0::Adult 18+||1::...|13451|\n",
      "|        0::Teen 12-17| 7182|\n",
      "+---------------------+-----+\n",
      "only showing top 5 rows\n",
      "\n",
      "Top 5 frequent values for participant_gender:\n"
     ]
    },
    {
     "name": "stderr",
     "output_type": "stream",
     "text": [
      "                                                                                \r"
     ]
    },
    {
     "name": "stdout",
     "output_type": "stream",
     "text": [
      "+--------------------+-----+\n",
      "|  participant_gender|count|\n",
      "+--------------------+-----+\n",
      "|             0::Male|90650|\n",
      "|                NULL|49778|\n",
      "|    0::Male||1::Male|42116|\n",
      "|0::Male||1::Male|...|11998|\n",
      "|  0::Female||1::Male|10265|\n",
      "+--------------------+-----+\n",
      "only showing top 5 rows\n",
      "\n",
      "Top 5 frequent values for participant_status:\n",
      "+--------------------+-----+\n",
      "|  participant_status|count|\n",
      "+--------------------+-----+\n",
      "|                NULL|41347|\n",
      "|          0::Injured|41248|\n",
      "|0::Unharmed, Arre...|24874|\n",
      "|           0::Killed|20577|\n",
      "|0::Injured||1::Un...|12297|\n",
      "+--------------------+-----+\n",
      "only showing top 5 rows\n",
      "\n",
      "Top 5 frequent values for participant_type:\n",
      "+--------------------+-----+\n",
      "|    participant_type|count|\n",
      "+--------------------+-----+\n",
      "|           0::Victim|57114|\n",
      "|0::Victim||1::Sub...|48986|\n",
      "|  0::Subject-Suspect|43326|\n",
      "|                NULL|38597|\n",
      "|0::Victim||1::Sub...|10622|\n",
      "+--------------------+-----+\n",
      "only showing top 5 rows\n",
      "\n",
      "Top 5 frequent values for state_house_district:\n",
      "+--------------------+-----+\n",
      "|state_house_district|count|\n",
      "+--------------------+-----+\n",
      "|                NULL|52070|\n",
      "|                  18| 3410|\n",
      "|                  10| 3349|\n",
      "|                  31| 3090|\n",
      "|                  32| 3089|\n",
      "+--------------------+-----+\n",
      "only showing top 5 rows\n",
      "\n",
      "Top 5 frequent values for state_senate_district:\n",
      "+---------------------+-----+\n",
      "|state_senate_district|count|\n",
      "+---------------------+-----+\n",
      "|                 NULL|45852|\n",
      "|                    5| 9478|\n",
      "|                    9| 7805|\n",
      "|                    3| 7654|\n",
      "|                    4| 6961|\n",
      "+---------------------+-----+\n",
      "only showing top 5 rows\n",
      "\n"
     ]
    }
   ],
   "source": [
    "get_most_freq(cat_ip_data)"
   ]
  },
  {
   "cell_type": "markdown",
   "id": "1faf7a62-6d6e-4fd4-a0c5-ebe052566c6f",
   "metadata": {},
   "source": [
    "#### Numerical Columns Analysis"
   ]
  },
  {
   "cell_type": "code",
   "execution_count": 23,
   "id": "b7ad04ac-66f7-4c73-bd25-3793abd06b73",
   "metadata": {},
   "outputs": [],
   "source": [
    "num_cols = [\"n_killed\", \"n_injured\", \"n_guns_involved\"]"
   ]
  },
  {
   "cell_type": "code",
   "execution_count": 24,
   "id": "ae7869df-157e-4eea-beb3-8f3cd704175c",
   "metadata": {},
   "outputs": [
    {
     "name": "stderr",
     "output_type": "stream",
     "text": [
      "                                                                                \r"
     ]
    },
    {
     "name": "stdout",
     "output_type": "stream",
     "text": [
      "Total unique values in the column n_killed : 3488\n",
      "Total unique values in the column n_injured : 236\n",
      "Total unique values in the column n_guns_involved : 107\n"
     ]
    }
   ],
   "source": [
    "num_ip_data = ip_data.select(*num_cols)\n",
    "get_unq_val_cnts(num_ip_data)"
   ]
  },
  {
   "cell_type": "code",
   "execution_count": 25,
   "id": "70ff8dbe-5dcf-43e7-95a4-238ef3d9a765",
   "metadata": {},
   "outputs": [
    {
     "name": "stdout",
     "output_type": "stream",
     "text": [
      "Top 5 frequent values for n_killed:\n",
      "+--------+------+\n",
      "|n_killed| count|\n",
      "+--------+------+\n",
      "|       0|185835|\n",
      "|       1| 48436|\n",
      "|       2|  4604|\n",
      "|    NULL|  3714|\n",
      "|       3|   595|\n",
      "+--------+------+\n",
      "only showing top 5 rows\n",
      "\n",
      "Top 5 frequent values for n_injured:\n",
      "+---------+------+\n",
      "|n_injured| count|\n",
      "+---------+------+\n",
      "|        0|142487|\n",
      "|        1| 81986|\n",
      "|        2| 11484|\n",
      "|     NULL|  6142|\n",
      "|        3|  2513|\n",
      "+---------+------+\n",
      "only showing top 5 rows\n",
      "\n",
      "Top 5 frequent values for n_guns_involved:\n",
      "+---------------+------+\n",
      "|n_guns_involved| count|\n",
      "+---------------+------+\n",
      "|              1|127548|\n",
      "|           NULL|106713|\n",
      "|              2|  7477|\n",
      "|              3|  2021|\n",
      "|              4|   871|\n",
      "+---------------+------+\n",
      "only showing top 5 rows\n",
      "\n"
     ]
    }
   ],
   "source": [
    "get_most_freq(num_ip_data)"
   ]
  },
  {
   "cell_type": "markdown",
   "id": "6f6d7e08-4d42-4c99-a7c0-ed0832240fc8",
   "metadata": {},
   "source": [
    "#### Date Columns Analysis"
   ]
  },
  {
   "cell_type": "code",
   "execution_count": 27,
   "id": "434a656f-c85e-48b0-862c-6dc20617e7f2",
   "metadata": {},
   "outputs": [],
   "source": [
    "date_cols = [\"date\"]"
   ]
  },
  {
   "cell_type": "code",
   "execution_count": 28,
   "id": "d73ad32f-687d-471a-b98e-fbf44b2f7a6c",
   "metadata": {},
   "outputs": [
    {
     "name": "stdout",
     "output_type": "stream",
     "text": [
      "Total unique values in the column date : 8612\n"
     ]
    }
   ],
   "source": [
    "date_ip_data = ip_data.select(*date_cols)\n",
    "get_unq_val_cnts(date_ip_data)"
   ]
  },
  {
   "cell_type": "code",
   "execution_count": 29,
   "id": "ca57cfc9-64dd-46ab-8585-87505f09b70d",
   "metadata": {},
   "outputs": [
    {
     "name": "stdout",
     "output_type": "stream",
     "text": [
      "Top 5 frequent values for date:\n",
      "+----------+-----+\n",
      "|      date|count|\n",
      "+----------+-----+\n",
      "|2017-01-01|  342|\n",
      "|2017-07-04|  248|\n",
      "|2017-05-28|  242|\n",
      "|2018-01-01|  242|\n",
      "|      NULL|  236|\n",
      "+----------+-----+\n",
      "only showing top 5 rows\n",
      "\n"
     ]
    }
   ],
   "source": [
    "get_most_freq(date_ip_data)"
   ]
  },
  {
   "cell_type": "markdown",
   "id": "66beefe4-45cb-4ab0-971e-a3aff9183837",
   "metadata": {},
   "source": [
    "#### Text Columns Analysis"
   ]
  },
  {
   "cell_type": "code",
   "execution_count": 31,
   "id": "ff305a64-35b4-4b99-a21e-a35e42ab81e7",
   "metadata": {},
   "outputs": [],
   "source": [
    "txt_cols = [\"notes\"]"
   ]
  },
  {
   "cell_type": "code",
   "execution_count": 32,
   "id": "da182824-e8af-47a3-bbbe-cecf6307706a",
   "metadata": {},
   "outputs": [],
   "source": [
    "data = pd.read_csv(\"../data/gun-violence-data_01-2013_03-2018.csv\")"
   ]
  },
  {
   "cell_type": "code",
   "execution_count": 33,
   "id": "3b2db0d7-9ab0-4d16-a1ad-fda4513ec899",
   "metadata": {},
   "outputs": [
    {
     "data": {
      "text/plain": [
       "address\n",
       "2375 International Pkwy                160\n",
       "6000 N Terminal Pkwy                   141\n",
       "Main Street                            131\n",
       "3400 E Sky Harbor Blvd                 127\n",
       "8500 Peña Blvd                          99\n",
       "                                      ... \n",
       "1300 block of Dean Street                1\n",
       "Bardell and Vine avenues                 1\n",
       "4235 North Armenia Blvd                  1\n",
       "8700 block of South Sangamon Street      1\n",
       "434 Skowhegan Rd                         1\n",
       "Name: count, Length: 198037, dtype: int64"
      ]
     },
     "execution_count": 33,
     "metadata": {},
     "output_type": "execute_result"
    }
   ],
   "source": [
    "data['address'].value_counts()"
   ]
  }
 ],
 "metadata": {
  "kernelspec": {
   "display_name": "Python 3 (ipykernel)",
   "language": "python",
   "name": "python3"
  },
  "language_info": {
   "codemirror_mode": {
    "name": "ipython",
    "version": 3
   },
   "file_extension": ".py",
   "mimetype": "text/x-python",
   "name": "python",
   "nbconvert_exporter": "python",
   "pygments_lexer": "ipython3",
   "version": "3.11.7"
  }
 },
 "nbformat": 4,
 "nbformat_minor": 5
}
