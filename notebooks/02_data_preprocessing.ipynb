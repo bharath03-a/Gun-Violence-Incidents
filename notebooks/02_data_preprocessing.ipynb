{
 "cells": [
  {
   "cell_type": "markdown",
   "id": "ef37d030-f4b3-4dc6-a57d-f78e136ba93e",
   "metadata": {},
   "source": [
    "## Note on what preprocessing should be done\n",
    "Refer Inference and TO DO in the `01_initial_exploratory_analysis.ipynb` File.\n",
    "1) Date format conversion\n",
    "2) Age Column Cleaning\n",
    "3) Removing unwanted Columns\n",
    "4) "
   ]
  },
  {
   "cell_type": "code",
   "execution_count": null,
   "id": "3e34d129-22b0-4e6e-b448-309f148c32af",
   "metadata": {},
   "outputs": [],
   "source": []
  }
 ],
 "metadata": {
  "kernelspec": {
   "display_name": "Python 3 (ipykernel)",
   "language": "python",
   "name": "python3"
  },
  "language_info": {
   "codemirror_mode": {
    "name": "ipython",
    "version": 3
   },
   "file_extension": ".py",
   "mimetype": "text/x-python",
   "name": "python",
   "nbconvert_exporter": "python",
   "pygments_lexer": "ipython3",
   "version": "3.11.7"
  }
 },
 "nbformat": 4,
 "nbformat_minor": 5
}
